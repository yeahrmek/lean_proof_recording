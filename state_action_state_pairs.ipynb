{
 "cells": [
  {
   "cell_type": "markdown",
   "metadata": {},
   "source": [
    "# `init_state -> actions -> final_state`\n",
    "\n",
    "Gather a dataset of triplets `(initial state, actions, final state)` for each pair of initial and final states"
   ]
  },
  {
   "cell_type": "code",
   "execution_count": 1,
   "metadata": {},
   "outputs": [],
   "source": [
    "from pathlib import Path\n",
    "\n",
    "import pandas as pd\n",
    "\n",
    "DATA_DIRECTORY = Path(\"./data/\")  # change as necessary"
   ]
  },
  {
   "cell_type": "markdown",
   "metadata": {},
   "source": [
    "## 1. Load tactics with states before and after"
   ]
  },
  {
   "cell_type": "code",
   "execution_count": 2,
   "metadata": {},
   "outputs": [],
   "source": [
    "goals = pd.read_parquet(DATA_DIRECTORY / \"goals_before_after.parquet\").drop_duplicates()"
   ]
  },
  {
   "cell_type": "markdown",
   "metadata": {},
   "source": [
    "## 2. Group tactics by `parent_key`"
   ]
  },
  {
   "cell_type": "markdown",
   "metadata": {},
   "source": [
    "### 3. Build triplets\n",
    "\n",
    "1. Groupby tactics by `parent_key`.\n",
    "2. In each group do the following:  \n",
    "    2.1. Sort by `tactic_instance` (considering it as a vector of ints).  \n",
    "    2.2. For each consequitive elements with `goal_before[i] == goal_after[i - 1]` construct all triplets."
   ]
  },
  {
   "cell_type": "code",
   "execution_count": 3,
   "metadata": {},
   "outputs": [],
   "source": [
    "def _triplets(gg):\n",
    "    triplets = []\n",
    "    for i in range(len(gg)):\n",
    "        for j in range(i + 1, len(gg)):\n",
    "            tactic = ' [PROOFSTEP] '.join(gg.human_tactic_code.values[i:j + 1])\n",
    "            triplets.append((\n",
    "                gg.goal_before.values[i],\n",
    "                tactic,\n",
    "                gg.goal_after.values[j],\n",
    "                gg.decl_name.values[i],\n",
    "                gg.split.values[i]\n",
    "            ))\n",
    "    triplets = pd.DataFrame(triplets, columns=['goal_before', 'tactic', 'goal_after', 'decl_name', 'split'])\n",
    "    return triplets\n",
    "\n",
    "\n",
    "def get_triplets(group):\n",
    "    # 1. sort by tactic_instance\n",
    "    for i in range(4):\n",
    "        group[f'tac_inst_{i}'] = group.tactic_instance.apply(lambda x: int(x.split(':')[i]))\n",
    "    group = group.sort_values([f\"tac_inst_{i}\" for i in range(4)])\n",
    "    triplets = [group[['goal_before', 'human_tactic_code', 'goal_after', 'decl_name', 'split']]\n",
    "                .rename(columns={'human_tactic_code': 'tactic'})]\n",
    "    i = 0\n",
    "    while i < len(group):\n",
    "        j = i + 1\n",
    "        while j < len(group) and group.goal_after.iloc[j - 1] == group.goal_before.iloc[j]:\n",
    "            j += 1\n",
    "        triplets.append(_triplets(group.iloc[i:j]))  \n",
    "        i = j  \n",
    "        \n",
    "    return pd.concat(triplets, ignore_index=True)"
   ]
  },
  {
   "cell_type": "code",
   "execution_count": 4,
   "metadata": {},
   "outputs": [
    {
     "name": "stderr",
     "output_type": "stream",
     "text": [
      "100%|██████████| 98627/98627 [03:04<00:00, 534.23it/s]\n"
     ]
    }
   ],
   "source": [
    "import tqdm\n",
    "from joblib import Parallel, delayed\n",
    "\n",
    "\n",
    "triplets = Parallel(-1)(\n",
    "    delayed(get_triplets)(group) for _, group in tqdm.tqdm(goals.groupby('parent_key'))\n",
    ")"
   ]
  },
  {
   "cell_type": "code",
   "execution_count": 5,
   "metadata": {},
   "outputs": [
    {
     "name": "stdout",
     "output_type": "stream",
     "text": [
      "(613721, 5)\n"
     ]
    },
    {
     "data": {
      "text/html": [
       "<div>\n",
       "<style scoped>\n",
       "    .dataframe tbody tr th:only-of-type {\n",
       "        vertical-align: middle;\n",
       "    }\n",
       "\n",
       "    .dataframe tbody tr th {\n",
       "        vertical-align: top;\n",
       "    }\n",
       "\n",
       "    .dataframe thead th {\n",
       "        text-align: right;\n",
       "    }\n",
       "</style>\n",
       "<table border=\"1\" class=\"dataframe\">\n",
       "  <thead>\n",
       "    <tr style=\"text-align: right;\">\n",
       "      <th></th>\n",
       "      <th>goal_before</th>\n",
       "      <th>tactic</th>\n",
       "      <th>goal_after</th>\n",
       "      <th>decl_name</th>\n",
       "      <th>split</th>\n",
       "    </tr>\n",
       "  </thead>\n",
       "  <tbody>\n",
       "    <tr>\n",
       "      <th>0</th>\n",
       "      <td>α : Type u,\\n_inst_1 : inhabited α,\\nb : buffe...</td>\n",
       "      <td>cases b; unfold read read'; simp [array.read_e...</td>\n",
       "      <td></td>\n",
       "      <td>buffer.read_eq_read'</td>\n",
       "      <td>test</td>\n",
       "    </tr>\n",
       "    <tr>\n",
       "      <th>1</th>\n",
       "      <td>α : Type u,\\n_inst_1 : inhabited α,\\nb : buffe...</td>\n",
       "      <td>cases b</td>\n",
       "      <td>α : Type u,\\n_inst_1 : inhabited α,\\ni b_fst :...</td>\n",
       "      <td>buffer.read_eq_read'</td>\n",
       "      <td>test</td>\n",
       "    </tr>\n",
       "    <tr>\n",
       "      <th>2</th>\n",
       "      <td>α : Type u,\\n_inst_1 : inhabited α,\\ni b_fst :...</td>\n",
       "      <td>unfold read read'</td>\n",
       "      <td>α : Type u,\\n_inst_1 : inhabited α,\\ni b_fst :...</td>\n",
       "      <td>buffer.read_eq_read'</td>\n",
       "      <td>test</td>\n",
       "    </tr>\n",
       "    <tr>\n",
       "      <th>3</th>\n",
       "      <td>α : Type u,\\n_inst_1 : inhabited α,\\nb : buffe...</td>\n",
       "      <td>cases b [PROOFSTEP] unfold read read'</td>\n",
       "      <td>α : Type u,\\n_inst_1 : inhabited α,\\ni b_fst :...</td>\n",
       "      <td>buffer.read_eq_read'</td>\n",
       "      <td>test</td>\n",
       "    </tr>\n",
       "    <tr>\n",
       "      <th>4</th>\n",
       "      <td>α : Type u,\\n_inst_1 : inhabited α,\\nb : buffe...</td>\n",
       "      <td>cases b; unfold read read'</td>\n",
       "      <td>α : Type u,\\n_inst_1 : inhabited α,\\ni b_fst :...</td>\n",
       "      <td>buffer.read_eq_read'</td>\n",
       "      <td>test</td>\n",
       "    </tr>\n",
       "  </tbody>\n",
       "</table>\n",
       "</div>"
      ],
      "text/plain": [
       "                                         goal_before  \\\n",
       "0  α : Type u,\\n_inst_1 : inhabited α,\\nb : buffe...   \n",
       "1  α : Type u,\\n_inst_1 : inhabited α,\\nb : buffe...   \n",
       "2  α : Type u,\\n_inst_1 : inhabited α,\\ni b_fst :...   \n",
       "3  α : Type u,\\n_inst_1 : inhabited α,\\nb : buffe...   \n",
       "4  α : Type u,\\n_inst_1 : inhabited α,\\nb : buffe...   \n",
       "\n",
       "                                              tactic  \\\n",
       "0  cases b; unfold read read'; simp [array.read_e...   \n",
       "1                                            cases b   \n",
       "2                                  unfold read read'   \n",
       "3              cases b [PROOFSTEP] unfold read read'   \n",
       "4                         cases b; unfold read read'   \n",
       "\n",
       "                                          goal_after             decl_name  \\\n",
       "0                                                     buffer.read_eq_read'   \n",
       "1  α : Type u,\\n_inst_1 : inhabited α,\\ni b_fst :...  buffer.read_eq_read'   \n",
       "2  α : Type u,\\n_inst_1 : inhabited α,\\ni b_fst :...  buffer.read_eq_read'   \n",
       "3  α : Type u,\\n_inst_1 : inhabited α,\\ni b_fst :...  buffer.read_eq_read'   \n",
       "4  α : Type u,\\n_inst_1 : inhabited α,\\ni b_fst :...  buffer.read_eq_read'   \n",
       "\n",
       "  split  \n",
       "0  test  \n",
       "1  test  \n",
       "2  test  \n",
       "3  test  \n",
       "4  test  "
      ]
     },
     "execution_count": 5,
     "metadata": {},
     "output_type": "execute_result"
    }
   ],
   "source": [
    "triplets = pd.concat(triplets, ignore_index=True)\n",
    "print(triplets.shape)\n",
    "triplets.head()"
   ]
  },
  {
   "cell_type": "code",
   "execution_count": 6,
   "metadata": {},
   "outputs": [],
   "source": [
    "triplets.to_parquet(DATA_DIRECTORY / 'triplets_by_steps.parquet', engine='pyarrow', index=False)"
   ]
  },
  {
   "cell_type": "code",
   "execution_count": 7,
   "metadata": {},
   "outputs": [],
   "source": [
    "proof_length = []\n",
    "for name, group in goals.groupby('parent_key'):\n",
    "    if group.parent_type.iloc[0] == 'proof':\n",
    "        proof_length.append(len(group))\n",
    "        if proof_length[-1] == 10:\n",
    "            break"
   ]
  },
  {
   "cell_type": "code",
   "execution_count": null,
   "metadata": {},
   "outputs": [],
   "source": [
    "tr = []\n",
    "for _, gg in goals[goals.decl_name == 'int.neg_succ_of_nat_mul_sub_nat_nat'].copy().groupby('parent_key'):\n",
    "    tr.append(get_triplets(gg))\n",
    "\n",
    "tr = pd.concat(tr)\n",
    "tr"
   ]
  },
  {
   "cell_type": "code",
   "execution_count": null,
   "metadata": {},
   "outputs": [],
   "source": [
    "df = triplets[triplets.decl_name == 'int.neg_succ_of_nat_mul_sub_nat_nat']\n",
    "df"
   ]
  },
  {
   "cell_type": "code",
   "execution_count": null,
   "metadata": {},
   "outputs": [],
   "source": [
    "from matplotlib import pyplot as plt\n",
    "\n",
    "plt.hist(proof_length, bins=40);"
   ]
  },
  {
   "cell_type": "code",
   "execution_count": null,
   "metadata": {},
   "outputs": [],
   "source": [
    "proof_length = pd.DataFrame(proof_length)\n",
    "proof_length.describe()"
   ]
  },
  {
   "cell_type": "code",
   "execution_count": null,
   "metadata": {},
   "outputs": [],
   "source": []
  }
 ],
 "metadata": {
  "kernelspec": {
   "display_name": "Python 3.9.5 ('base')",
   "language": "python",
   "name": "python3"
  },
  "language_info": {
   "codemirror_mode": {
    "name": "ipython",
    "version": 3
   },
   "file_extension": ".py",
   "mimetype": "text/x-python",
   "name": "python",
   "nbconvert_exporter": "python",
   "pygments_lexer": "ipython3",
   "version": "3.9.5"
  },
  "vscode": {
   "interpreter": {
    "hash": "3e4b0e2b6b7f1e286dd9e8433429aa99b57bd8600e6065a7abc0c1b788fb6da6"
   }
  }
 },
 "nbformat": 4,
 "nbformat_minor": 4
}
