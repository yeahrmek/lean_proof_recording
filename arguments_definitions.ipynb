{
 "cells": [
  {
   "cell_type": "markdown",
   "metadata": {},
   "source": [
    "# Find definitions of lemmas in arguments of tactics"
   ]
  },
  {
   "cell_type": "code",
   "execution_count": 1,
   "metadata": {},
   "outputs": [],
   "source": [
    "%load_ext autoreload\n",
    "%autoreload 2"
   ]
  },
  {
   "cell_type": "code",
   "execution_count": 2,
   "metadata": {},
   "outputs": [],
   "source": [
    "from pathlib import Path\n",
    "\n",
    "import pandas as pd\n",
    "\n",
    "DATA_DIRECTORY = Path(\"./data/\")  # change as necessary"
   ]
  },
  {
   "cell_type": "markdown",
   "metadata": {},
   "source": [
    "## 1. Load tactics raw data"
   ]
  },
  {
   "cell_type": "code",
   "execution_count": 3,
   "metadata": {},
   "outputs": [],
   "source": [
    "tactic_state_goal_raw = pd.read_json(\n",
    "    DATA_DIRECTORY / \"raw_traced_data\" / \"tactic_state_goal.jsonl\",\n",
    "    orient='records',\n",
    "    lines=True\n",
    ")\n",
    "tactic_state_raw = pd.read_json(\n",
    "    DATA_DIRECTORY / \"raw_traced_data\" / \"tactic_state.jsonl\",\n",
    "    orient=\"records\",\n",
    "    lines=True \n",
    ")\n",
    "\n",
    "args = pd.read_json(\n",
    "    DATA_DIRECTORY / \"extracted_proof_data\" / \"args.jsonl\", \n",
    "    orient=\"records\",\n",
    "    lines=True\n",
    ")\n",
    "\n",
    "tactic_param_value = pd.read_json(\n",
    "    DATA_DIRECTORY / \"raw_traced_data\" / \"tactic_param_value.jsonl\",\n",
    "    orient='records',\n",
    "    lines=True\n",
    ")\n",
    "\n",
    "tactics = pd.read_json(\n",
    "    DATA_DIRECTORY / \"extracted_proof_data\" / \"tactics.jsonl\", \n",
    "    orient='records',\n",
    "    lines=True\n",
    ")"
   ]
  },
  {
   "cell_type": "markdown",
   "metadata": {},
   "source": [
    "## 2. Join goal and tactic_instance_key"
   ]
  },
  {
   "cell_type": "code",
   "execution_count": 4,
   "metadata": {},
   "outputs": [
    {
     "name": "stdout",
     "output_type": "stream",
     "text": [
      "481088 481088\n"
     ]
    },
    {
     "data": {
      "text/plain": [
       "(240974, 3)"
      ]
     },
     "execution_count": 4,
     "metadata": {},
     "output_type": "execute_result"
    }
   ],
   "source": [
    "goals = tactic_state_goal_raw.copy()\n",
    "goals = goals[goals['ix'] == 0]\n",
    "\n",
    "# set unique index\n",
    "goals['tactic_state_key'] = goals['filename'] + \":\" + goals['tactic_state']\n",
    "goals = goals[['tactic_state_key', 'goal_pp']]\n",
    "goals = goals.set_index('tactic_state_key')\n",
    "\n",
    "states = tactic_state_raw.copy()\n",
    "# states = states[states['before_after'] == 'before']\n",
    "states['tactic_state_key'] = states['filename'] + \":\" + states['key']\n",
    "states['tactic_instance_key'] = states['filename'] + \":\" + states['tactic_instance']\n",
    "states['tactic_key'] = states['tactic_instance_key'].apply(lambda k: \":\".join(k.split(\":\")[:-1]))\n",
    "states = states[['tactic_state_key', 'tactic_key', 'tactic_instance_key', 'before_after', 'tactic_instance']]\n",
    "states = states.set_index('tactic_state_key')\n",
    "\n",
    "print(len(goals), len(states))\n",
    "goals = states.join(goals)\n",
    "goals = goals.set_index('tactic_key')\n",
    "goals = goals[goals['before_after'] == 'before'].drop(columns='before_after')\n",
    "goals.shape"
   ]
  },
  {
   "cell_type": "markdown",
   "metadata": {},
   "source": [
    "## 3. Get tactic arguments"
   ]
  },
  {
   "cell_type": "code",
   "execution_count": 5,
   "metadata": {},
   "outputs": [],
   "source": [
    "# the lean internal values are indexed by the starting position of\n",
    "# the parameter argument.  Unfortionately, because of zero length\n",
    "# arguments, two different arguements can have the same starting\n",
    "# position.  We add a cumulative count to address this.\n",
    "params = tactic_param_value.copy()\n",
    "params['key'] = params['filename'] + \":\" + params['key']\n",
    "params['cnt'] = params.groupby('key').cumcount()\n",
    "params['key2'] = params['key'] + \":\" + params['cnt'].astype(str)\n",
    "params = params.set_index('key2')\n",
    "params = params[['reflected_expr_pp']]\n",
    "\n",
    "args_processed = args.copy()\n",
    "# args has duplicates since there is a \n",
    "# line for each tactic execution instance\n",
    "args_processed = args_processed.drop_duplicates()  \n",
    "args_processed['cnt'] = args_processed.groupby('key').cumcount()\n",
    "args_processed['key2'] = args_processed['key'] + \":\" + args_processed['cnt'].astype(str)\n",
    "args_processed = args_processed.set_index('key2')\n",
    "args_processed = args_processed.rename(columns={'code_string': 'human_tactic_arg'})\n",
    "args_processed = args_processed[['parent_key', 'index', 'human_tactic_arg']]\n",
    "\n",
    "args_params = args_processed.join(params).reset_index()[['parent_key', 'index', 'human_tactic_arg', 'reflected_expr_pp']]\n",
    "args_params = args_params.set_index('parent_key')\n",
    "args_params = args_params.pivot_table(\n",
    "    values=['human_tactic_arg', 'reflected_expr_pp'],\n",
    "    index='parent_key',\n",
    "    columns='index',\n",
    "    aggfunc='first'\n",
    ")"
   ]
  },
  {
   "cell_type": "markdown",
   "metadata": {},
   "source": [
    "## 4. Join arguments with tactics and goals"
   ]
  },
  {
   "cell_type": "code",
   "execution_count": 6,
   "metadata": {},
   "outputs": [
    {
     "name": "stderr",
     "output_type": "stream",
     "text": [
      "/var/folders/r0/vbnz41hd1vqb29w40dsgy0lc0000gq/T/ipykernel_77130/3099174068.py:12: FutureWarning: merging between different levels is deprecated and will be removed in a future version. (1 levels on the left, 2 on the right)\n",
      "  parsed_tactics = df4.join(args_params)\n"
     ]
    }
   ],
   "source": [
    "df4 = tactics.copy()\n",
    "df4['tactic_state_key'] = df4['filename'] + ':' + df4['trace_key']\n",
    "df4 = df4.set_index('tactic_state_key')\n",
    "df4 = goals.join(df4)\n",
    "df4 = df4[df4['class'] == \"named\"]\n",
    "df4 = df4[['key', 'code_string', 'goal_pp', 'tactic_instance']]\n",
    "df4 = df4.rename(columns={'code_string': ('proof_state', 'tactic'),\n",
    "                          'goal_pp': ('proof_state', 'goal_pp'),\n",
    "                          'tactic_instance': ('proof_state', 'tactic_instance')})\n",
    "df4 = df4.set_index('key')\n",
    "\n",
    "parsed_tactics = df4.join(args_params)\n",
    "parsed_tactics.columns = pd.MultiIndex.from_tuples(parsed_tactics.columns)"
   ]
  },
  {
   "cell_type": "markdown",
   "metadata": {},
   "source": [
    "## 4. Join metadata with open namespaces"
   ]
  },
  {
   "cell_type": "code",
   "execution_count": 7,
   "metadata": {},
   "outputs": [
    {
     "name": "stderr",
     "output_type": "stream",
     "text": [
      "/var/folders/r0/vbnz41hd1vqb29w40dsgy0lc0000gq/T/ipykernel_77130/501957780.py:5: FutureWarning: merging between different levels is deprecated and will be removed in a future version. (2 levels on the left, 1 on the right)\n",
      "  data = parsed_tactics.join(data_and_metadata)\n"
     ]
    },
    {
     "data": {
      "text/plain": [
       "(200149, 25)"
      ]
     },
     "execution_count": 7,
     "metadata": {},
     "output_type": "execute_result"
    }
   ],
   "source": [
    "data_and_metadata = pd.read_csv(DATA_DIRECTORY / \"cleaned_training_data\" / \"data_and_metadata.csv\")\n",
    "data_and_metadata['key'] = data_and_metadata['filename'] + ':' + data_and_metadata.line.astype(str) + ':' + data_and_metadata.column.astype(str)\n",
    "data_and_metadata = data_and_metadata.set_index('key')\n",
    "\n",
    "data = parsed_tactics.join(data_and_metadata)\n",
    "data = data[data.goal_pp == data[('proof_state', 'goal_pp')]]\n",
    "data.shape"
   ]
  },
  {
   "cell_type": "code",
   "execution_count": 8,
   "metadata": {},
   "outputs": [
    {
     "name": "stderr",
     "output_type": "stream",
     "text": [
      "/Users/Kapushev/miniconda3/lib/python3.9/site-packages/pandas/core/common.py:245: VisibleDeprecationWarning: Creating an ndarray from ragged nested sequences (which is a list-or-tuple of lists-or-tuples-or ndarrays with different lengths or shapes) is deprecated. If you meant to do this, you must specify 'dtype=object' when creating the ndarray.\n",
      "  result = np.asarray(values, dtype=dtype)\n"
     ]
    }
   ],
   "source": [
    "data = data[['goal_pp', 'human_tactic_code', 'open_namespaces', 'decl_name', 'filename', 'split',\n",
    "             *[('human_tactic_arg', i) for i in range(4)]]]\n",
    "             # *[('reflected_expr_pp', i) for i in range(4)]]]\n",
    "data = data.rename(columns=dict([(('human_tactic_arg', i), f'human_tactic_arg_{i}') for i in range(4)] + \n",
    "                                [(('reflected_expr_pp', i), f'reflected_expr_pp_{i}') for i in range(4)]))"
   ]
  },
  {
   "cell_type": "markdown",
   "metadata": {},
   "source": [
    "## For each tactic get open local namespaces"
   ]
  },
  {
   "cell_type": "code",
   "execution_count": 9,
   "metadata": {},
   "outputs": [],
   "source": [
    "data[['filename', 'row', 'col']] = [i.split(':') for i in data.index]\n",
    "data = data.reset_index(drop=True)"
   ]
  },
  {
   "cell_type": "code",
   "execution_count": 10,
   "metadata": {},
   "outputs": [
    {
     "data": {
      "application/vnd.jupyter.widget-view+json": {
       "model_id": "ca80f181fda54c838bf12125d43ffbbe",
       "version_major": 2,
       "version_minor": 0
      },
      "text/plain": [
       "  0%|          | 0/1917 [00:00<?, ?it/s]"
      ]
     },
     "metadata": {},
     "output_type": "display_data"
    },
    {
     "name": "stderr",
     "output_type": "stream",
     "text": [
      "/Users/Kapushev/miniconda3/lib/python3.9/site-packages/tqdm/std.py:814: FutureWarning: Not prepending group keys to the result index of transform-like apply. In the future, the group keys will be included in the index, regardless of whether the applied function returns a like-indexed object.\n",
      "To preserve the previous behavior, use\n",
      "\n",
      "\t>>> .groupby(..., group_keys=False)\n",
      "\n",
      "To adopt the future behavior and silence this warning, use \n",
      "\n",
      "\t>>> .groupby(..., group_keys=True)\n",
      "  return getattr(df, df_function)(wrapper, **kwargs)\n"
     ]
    },
    {
     "data": {
      "text/html": [
       "<div>\n",
       "<style scoped>\n",
       "    .dataframe tbody tr th:only-of-type {\n",
       "        vertical-align: middle;\n",
       "    }\n",
       "\n",
       "    .dataframe tbody tr th {\n",
       "        vertical-align: top;\n",
       "    }\n",
       "\n",
       "    .dataframe thead th {\n",
       "        text-align: right;\n",
       "    }\n",
       "</style>\n",
       "<table border=\"1\" class=\"dataframe\">\n",
       "  <thead>\n",
       "    <tr style=\"text-align: right;\">\n",
       "      <th></th>\n",
       "      <th>goal_pp</th>\n",
       "      <th>human_tactic_code</th>\n",
       "      <th>open_namespaces</th>\n",
       "      <th>decl_name</th>\n",
       "      <th>filename</th>\n",
       "      <th>split</th>\n",
       "      <th>human_tactic_arg_0</th>\n",
       "      <th>human_tactic_arg_1</th>\n",
       "      <th>human_tactic_arg_2</th>\n",
       "      <th>human_tactic_arg_3</th>\n",
       "      <th>row</th>\n",
       "      <th>col</th>\n",
       "      <th>open_ns_local</th>\n",
       "      <th>open_ns_nonlocal</th>\n",
       "    </tr>\n",
       "  </thead>\n",
       "  <tbody>\n",
       "    <tr>\n",
       "      <th>0</th>\n",
       "      <td>α : Type u,\\n_inst_1 : inhabited α,\\ni b_fst :...</td>\n",
       "      <td>unfold read read'</td>\n",
       "      <td>buffer</td>\n",
       "      <td>buffer.read_eq_read'</td>\n",
       "      <td>lean/library/data/buffer.lean</td>\n",
       "      <td>test</td>\n",
       "      <td>read read'</td>\n",
       "      <td></td>\n",
       "      <td>NaN</td>\n",
       "      <td>NaN</td>\n",
       "      <td>49</td>\n",
       "      <td>13</td>\n",
       "      <td>[buffer]</td>\n",
       "      <td>[]</td>\n",
       "    </tr>\n",
       "    <tr>\n",
       "      <th>1</th>\n",
       "      <td>α : Type u,\\n_inst_1 : inhabited α,\\ni b_fst :...</td>\n",
       "      <td>simp [array.read_eq_read']</td>\n",
       "      <td>buffer</td>\n",
       "      <td>buffer.read_eq_read'</td>\n",
       "      <td>lean/library/data/buffer.lean</td>\n",
       "      <td>test</td>\n",
       "      <td>[array.read_eq_read']</td>\n",
       "      <td></td>\n",
       "      <td>NaN</td>\n",
       "      <td>NaN</td>\n",
       "      <td>49</td>\n",
       "      <td>32</td>\n",
       "      <td>[buffer]</td>\n",
       "      <td>[]</td>\n",
       "    </tr>\n",
       "    <tr>\n",
       "      <th>2</th>\n",
       "      <td>α : Type u,\\n_inst_1 : inhabited α,\\nb : buffe...</td>\n",
       "      <td>cases b</td>\n",
       "      <td>buffer</td>\n",
       "      <td>buffer.read_eq_read'</td>\n",
       "      <td>lean/library/data/buffer.lean</td>\n",
       "      <td>test</td>\n",
       "      <td>b</td>\n",
       "      <td></td>\n",
       "      <td>NaN</td>\n",
       "      <td>NaN</td>\n",
       "      <td>49</td>\n",
       "      <td>4</td>\n",
       "      <td>[buffer]</td>\n",
       "      <td>[]</td>\n",
       "    </tr>\n",
       "    <tr>\n",
       "      <th>3</th>\n",
       "      <td>α : Type u,\\ni : ℕ,\\nv : α,\\nb_fst : ℕ,\\nb_snd...</td>\n",
       "      <td>unfold write write'</td>\n",
       "      <td>buffer</td>\n",
       "      <td>buffer.write_eq_write'</td>\n",
       "      <td>lean/library/data/buffer.lean</td>\n",
       "      <td>train</td>\n",
       "      <td>write write'</td>\n",
       "      <td></td>\n",
       "      <td>NaN</td>\n",
       "      <td>NaN</td>\n",
       "      <td>53</td>\n",
       "      <td>13</td>\n",
       "      <td>[buffer]</td>\n",
       "      <td>[]</td>\n",
       "    </tr>\n",
       "    <tr>\n",
       "      <th>4</th>\n",
       "      <td>α : Type u,\\ni : ℕ,\\nv : α,\\nb_fst : ℕ,\\nb_snd...</td>\n",
       "      <td>simp [array.write_eq_write']</td>\n",
       "      <td>buffer</td>\n",
       "      <td>buffer.write_eq_write'</td>\n",
       "      <td>lean/library/data/buffer.lean</td>\n",
       "      <td>train</td>\n",
       "      <td>[array.write_eq_write']</td>\n",
       "      <td></td>\n",
       "      <td>NaN</td>\n",
       "      <td>NaN</td>\n",
       "      <td>53</td>\n",
       "      <td>34</td>\n",
       "      <td>[buffer]</td>\n",
       "      <td>[]</td>\n",
       "    </tr>\n",
       "  </tbody>\n",
       "</table>\n",
       "</div>"
      ],
      "text/plain": [
       "                                             goal_pp  \\\n",
       "0  α : Type u,\\n_inst_1 : inhabited α,\\ni b_fst :...   \n",
       "1  α : Type u,\\n_inst_1 : inhabited α,\\ni b_fst :...   \n",
       "2  α : Type u,\\n_inst_1 : inhabited α,\\nb : buffe...   \n",
       "3  α : Type u,\\ni : ℕ,\\nv : α,\\nb_fst : ℕ,\\nb_snd...   \n",
       "4  α : Type u,\\ni : ℕ,\\nv : α,\\nb_fst : ℕ,\\nb_snd...   \n",
       "\n",
       "              human_tactic_code open_namespaces               decl_name  \\\n",
       "0             unfold read read'          buffer    buffer.read_eq_read'   \n",
       "1    simp [array.read_eq_read']          buffer    buffer.read_eq_read'   \n",
       "2                       cases b          buffer    buffer.read_eq_read'   \n",
       "3           unfold write write'          buffer  buffer.write_eq_write'   \n",
       "4  simp [array.write_eq_write']          buffer  buffer.write_eq_write'   \n",
       "\n",
       "                        filename  split       human_tactic_arg_0  \\\n",
       "0  lean/library/data/buffer.lean   test               read read'   \n",
       "1  lean/library/data/buffer.lean   test    [array.read_eq_read']   \n",
       "2  lean/library/data/buffer.lean   test                        b   \n",
       "3  lean/library/data/buffer.lean  train             write write'   \n",
       "4  lean/library/data/buffer.lean  train  [array.write_eq_write']   \n",
       "\n",
       "  human_tactic_arg_1 human_tactic_arg_2 human_tactic_arg_3 row col  \\\n",
       "0                                   NaN                NaN  49  13   \n",
       "1                                   NaN                NaN  49  32   \n",
       "2                                   NaN                NaN  49   4   \n",
       "3                                   NaN                NaN  53  13   \n",
       "4                                   NaN                NaN  53  34   \n",
       "\n",
       "  open_ns_local open_ns_nonlocal  \n",
       "0      [buffer]               []  \n",
       "1      [buffer]               []  \n",
       "2      [buffer]               []  \n",
       "3      [buffer]               []  \n",
       "4      [buffer]               []  "
      ]
     },
     "execution_count": 10,
     "metadata": {},
     "output_type": "execute_result"
    }
   ],
   "source": [
    "import numpy as np\n",
    "from tqdm.notebook import tqdm\n",
    "tqdm.pandas()\n",
    "\n",
    "import sys\n",
    "sys.path.append('../atp/scripts/lean/')\n",
    "\n",
    "from lemmas_dataset import track_open_namespaces\n",
    "from dependency_graph import Parser\n",
    "\n",
    "\n",
    "def get_all_nested_namespaces(namespace):\n",
    "    \"\"\"\n",
    "    Given a namespace \"a.b.c\" return list[\"a.b.c\", \"a.b\", \"a\"]\n",
    "    \"\"\"\n",
    "    if namespace is None:\n",
    "        return None\n",
    "    words = namespace.split('.')\n",
    "    nested_namespaces = [words[0]]\n",
    "    for w in words[1:]:\n",
    "        nested_namespaces.append(\n",
    "            f\"{nested_namespaces[-1]}.{w}\")\n",
    "    return nested_namespaces[::-1]\n",
    "\n",
    "\n",
    "def get_nonlocal_namespaces(local_namespaces, all_namespaces):\n",
    "    \"\"\"\n",
    "    Return set difference B \\ A\n",
    "    \"\"\"\n",
    "    return np.setdiff1d(all_namespaces, local_namespaces).tolist()\n",
    "    \n",
    "\n",
    "def append_namespaces(group):\n",
    "    filename = group.filename.values[0]\n",
    "    with open('./_target/deps/' + filename, 'r') as fh:\n",
    "        src, line_numbers = parser.remove_comments(fh.read(), lineno=True)\n",
    "        \n",
    "    open_namespaces = track_open_namespaces(src, line_numbers)\n",
    "    out = group.copy()\n",
    "    out['open_ns_local'] = [get_all_nested_namespaces(open_namespaces.get(int(row), None))\n",
    "                            for row in group.row.values]\n",
    "    out['open_ns_nonlocal'] = [\n",
    "        get_nonlocal_namespaces(local_ns, all_ns)\n",
    "        for local_ns, all_ns in zip(out.open_ns_local.values, group.open_namespaces.values)\n",
    "    ]\n",
    "    return out\n",
    "\n",
    "\n",
    "parser = Parser()\n",
    "open_namespaces_local = []\n",
    "\n",
    "groupby = data.groupby('filename')\n",
    "data = groupby.progress_apply(append_namespaces)\n",
    "data.head()"
   ]
  },
  {
   "cell_type": "markdown",
   "metadata": {},
   "source": [
    "## 5. Load parsed lemmas"
   ]
  },
  {
   "cell_type": "code",
   "execution_count": 11,
   "metadata": {},
   "outputs": [],
   "source": [
    "import json\n",
    "\n",
    "with open(DATA_DIRECTORY / 'all_lemmas_statements.json', 'r') as fh:\n",
    "    lemmas = json.load(fh)"
   ]
  },
  {
   "cell_type": "code",
   "execution_count": 12,
   "metadata": {},
   "outputs": [
    {
     "data": {
      "application/vnd.jupyter.widget-view+json": {
       "model_id": "b4d03c5a226c4ae08262d9a0bddc34fd",
       "version_major": 2,
       "version_minor": 0
      },
      "text/plain": [
       "  0%|          | 0/1917 [00:00<?, ?it/s]"
      ]
     },
     "metadata": {},
     "output_type": "display_data"
    }
   ],
   "source": [
    "# for each filename get local lemmas\n",
    "import sys\n",
    "sys.path.append('../atp/scripts/lean')\n",
    "\n",
    "from lemmas_dataset import get_lemmas\n",
    "from dependency_graph import Parser\n",
    "\n",
    "lemmas_by_filename = {}\n",
    "for filename in tqdm(data.filename.unique()):\n",
    "    with open('./_target/deps/' + filename, 'r') as f_handle:\n",
    "        src = parser.remove_comments(f_handle.read())\n",
    "    lemmas_by_filename[filename] = get_lemmas(src)"
   ]
  },
  {
   "cell_type": "code",
   "execution_count": 13,
   "metadata": {},
   "outputs": [
    {
     "data": {
      "application/vnd.jupyter.widget-view+json": {
       "model_id": "52f29200f93943f88e09513200cb922d",
       "version_major": 2,
       "version_minor": 0
      },
      "text/plain": [
       "  0%|          | 0/200149 [00:00<?, ?it/s]"
      ]
     },
     "metadata": {},
     "output_type": "display_data"
    }
   ],
   "source": [
    "import re\n",
    "\n",
    "\n",
    "def check_local(lemmas_by_filename, row, cand):\n",
    "    full_name = []\n",
    "    \n",
    "    # first check candidate names with ns prefix\n",
    "    # here we also suppose that namespace are sorted\n",
    "    # by nestedness --- start with the most nested\n",
    "    if row.open_ns_local is not None:\n",
    "        for pref in row.open_ns_local:\n",
    "            if f\"{pref}.{cand}\" in lemmas_by_filename[row.filename]:\n",
    "                full_name.append(f\"{pref}.{cand}\")\n",
    "    # then check the candidate itself\n",
    "    if cand in lemmas_by_filename[row.filename]:\n",
    "        full_name.append(cand)\n",
    "    return full_name\n",
    "    \n",
    "    \n",
    "def check_nonlocal(lemmas, row, cand):\n",
    "    full_names = []\n",
    "    if row.open_ns_nonlocal is not None:\n",
    "        for pref in row.open_ns_nonlocal:\n",
    "            if f\"{pref}.{cand}\" in lemmas:\n",
    "                full_names.append(f\"{pref}.{cand}\")\n",
    "    if cand in lemmas:\n",
    "        full_names.append(cand)\n",
    "    return full_names\n",
    "\n",
    "\n",
    "args_full_names = []\n",
    "data['full_names_local'] = None\n",
    "data['full_names_global'] = None\n",
    "data['not_found_args'] = None\n",
    "data['args_names'] = None\n",
    "for idx, row in tqdm(data.iterrows(), total=len(data)):\n",
    "    args_full_names = {'local': [], 'global': [], 'not_found': [], 'final_full_names': []}\n",
    "    for i in range(4):\n",
    "        args_str = row[f'human_tactic_arg_{i}']\n",
    "        \n",
    "        if isinstance(args_str, float) or args_str in ['only', 'with', 'in']:\n",
    "            continue\n",
    "            \n",
    "        args_str = re.sub(r'[\\[\\]\\(\\)\\{\\}\\<\\>⟨⟩,;]', ' ', args_str)\n",
    "        for cand in args_str.split():\n",
    "            # skip too short names\n",
    "            if len(cand) < 3:\n",
    "                continue\n",
    "            \n",
    "            local_names = check_local(lemmas_by_filename, row, cand)\n",
    "            global_names = check_nonlocal(lemmas, row, cand)\n",
    "            if local_names:\n",
    "                args_full_names['local'].append((cand, *local_names))\n",
    "            if global_names:\n",
    "                args_full_names['global'].append((cand, *global_names))\n",
    "            if not local_names and not global_names:\n",
    "                args_full_names['not_found'] = cand\n",
    "            \n",
    "            \n",
    "            if local_names:\n",
    "                args_full_names['final_full_names'].append(local_names[0])\n",
    "            elif global_names:\n",
    "                args_full_names['final_full_names'].append(global_names[0])\n",
    "\n",
    "    data.loc[idx, 'full_names_local'] = args_full_names['local']\n",
    "    data.loc[idx, 'full_names_global'] = args_full_names['global']\n",
    "    data.loc[idx, 'not_found_args'] = args_full_names['not_found']\n",
    "    data.loc[idx, 'args_names'] = args_full_names['final_full_names']"
   ]
  },
  {
   "cell_type": "code",
   "execution_count": 14,
   "metadata": {},
   "outputs": [
    {
     "data": {
      "text/html": [
       "<div>\n",
       "<style scoped>\n",
       "    .dataframe tbody tr th:only-of-type {\n",
       "        vertical-align: middle;\n",
       "    }\n",
       "\n",
       "    .dataframe tbody tr th {\n",
       "        vertical-align: top;\n",
       "    }\n",
       "\n",
       "    .dataframe thead th {\n",
       "        text-align: right;\n",
       "    }\n",
       "</style>\n",
       "<table border=\"1\" class=\"dataframe\">\n",
       "  <thead>\n",
       "    <tr style=\"text-align: right;\">\n",
       "      <th></th>\n",
       "      <th>goal_pp</th>\n",
       "      <th>human_tactic_code</th>\n",
       "      <th>open_namespaces</th>\n",
       "      <th>decl_name</th>\n",
       "      <th>filename</th>\n",
       "      <th>split</th>\n",
       "      <th>human_tactic_arg_0</th>\n",
       "      <th>human_tactic_arg_1</th>\n",
       "      <th>human_tactic_arg_2</th>\n",
       "      <th>human_tactic_arg_3</th>\n",
       "      <th>row</th>\n",
       "      <th>col</th>\n",
       "      <th>open_ns_local</th>\n",
       "      <th>open_ns_nonlocal</th>\n",
       "      <th>full_names_local</th>\n",
       "      <th>full_names_global</th>\n",
       "      <th>not_found_args</th>\n",
       "      <th>args_names</th>\n",
       "    </tr>\n",
       "  </thead>\n",
       "  <tbody>\n",
       "    <tr>\n",
       "      <th>0</th>\n",
       "      <td>α : Type u,\\n_inst_1 : inhabited α,\\ni b_fst :...</td>\n",
       "      <td>unfold read read'</td>\n",
       "      <td>buffer</td>\n",
       "      <td>buffer.read_eq_read'</td>\n",
       "      <td>lean/library/data/buffer.lean</td>\n",
       "      <td>test</td>\n",
       "      <td>read read'</td>\n",
       "      <td></td>\n",
       "      <td>NaN</td>\n",
       "      <td>NaN</td>\n",
       "      <td>49</td>\n",
       "      <td>13</td>\n",
       "      <td>[buffer]</td>\n",
       "      <td>[]</td>\n",
       "      <td>[(read, buffer.read), (read', buffer.read')]</td>\n",
       "      <td>[]</td>\n",
       "      <td>[]</td>\n",
       "      <td>[buffer.read, buffer.read']</td>\n",
       "    </tr>\n",
       "    <tr>\n",
       "      <th>1</th>\n",
       "      <td>α : Type u,\\n_inst_1 : inhabited α,\\ni b_fst :...</td>\n",
       "      <td>simp [array.read_eq_read']</td>\n",
       "      <td>buffer</td>\n",
       "      <td>buffer.read_eq_read'</td>\n",
       "      <td>lean/library/data/buffer.lean</td>\n",
       "      <td>test</td>\n",
       "      <td>[array.read_eq_read']</td>\n",
       "      <td></td>\n",
       "      <td>NaN</td>\n",
       "      <td>NaN</td>\n",
       "      <td>49</td>\n",
       "      <td>32</td>\n",
       "      <td>[buffer]</td>\n",
       "      <td>[]</td>\n",
       "      <td>[]</td>\n",
       "      <td>[(array.read_eq_read', array.read_eq_read')]</td>\n",
       "      <td>[]</td>\n",
       "      <td>[array.read_eq_read']</td>\n",
       "    </tr>\n",
       "    <tr>\n",
       "      <th>2</th>\n",
       "      <td>α : Type u,\\n_inst_1 : inhabited α,\\nb : buffe...</td>\n",
       "      <td>cases b</td>\n",
       "      <td>buffer</td>\n",
       "      <td>buffer.read_eq_read'</td>\n",
       "      <td>lean/library/data/buffer.lean</td>\n",
       "      <td>test</td>\n",
       "      <td>b</td>\n",
       "      <td></td>\n",
       "      <td>NaN</td>\n",
       "      <td>NaN</td>\n",
       "      <td>49</td>\n",
       "      <td>4</td>\n",
       "      <td>[buffer]</td>\n",
       "      <td>[]</td>\n",
       "      <td>[]</td>\n",
       "      <td>[]</td>\n",
       "      <td>[]</td>\n",
       "      <td>[]</td>\n",
       "    </tr>\n",
       "    <tr>\n",
       "      <th>3</th>\n",
       "      <td>α : Type u,\\ni : ℕ,\\nv : α,\\nb_fst : ℕ,\\nb_snd...</td>\n",
       "      <td>unfold write write'</td>\n",
       "      <td>buffer</td>\n",
       "      <td>buffer.write_eq_write'</td>\n",
       "      <td>lean/library/data/buffer.lean</td>\n",
       "      <td>train</td>\n",
       "      <td>write write'</td>\n",
       "      <td></td>\n",
       "      <td>NaN</td>\n",
       "      <td>NaN</td>\n",
       "      <td>53</td>\n",
       "      <td>13</td>\n",
       "      <td>[buffer]</td>\n",
       "      <td>[]</td>\n",
       "      <td>[(write, buffer.write), (write', buffer.write')]</td>\n",
       "      <td>[]</td>\n",
       "      <td>[]</td>\n",
       "      <td>[buffer.write, buffer.write']</td>\n",
       "    </tr>\n",
       "    <tr>\n",
       "      <th>4</th>\n",
       "      <td>α : Type u,\\ni : ℕ,\\nv : α,\\nb_fst : ℕ,\\nb_snd...</td>\n",
       "      <td>simp [array.write_eq_write']</td>\n",
       "      <td>buffer</td>\n",
       "      <td>buffer.write_eq_write'</td>\n",
       "      <td>lean/library/data/buffer.lean</td>\n",
       "      <td>train</td>\n",
       "      <td>[array.write_eq_write']</td>\n",
       "      <td></td>\n",
       "      <td>NaN</td>\n",
       "      <td>NaN</td>\n",
       "      <td>53</td>\n",
       "      <td>34</td>\n",
       "      <td>[buffer]</td>\n",
       "      <td>[]</td>\n",
       "      <td>[]</td>\n",
       "      <td>[(array.write_eq_write', array.write_eq_write')]</td>\n",
       "      <td>[]</td>\n",
       "      <td>[array.write_eq_write']</td>\n",
       "    </tr>\n",
       "  </tbody>\n",
       "</table>\n",
       "</div>"
      ],
      "text/plain": [
       "                                             goal_pp  \\\n",
       "0  α : Type u,\\n_inst_1 : inhabited α,\\ni b_fst :...   \n",
       "1  α : Type u,\\n_inst_1 : inhabited α,\\ni b_fst :...   \n",
       "2  α : Type u,\\n_inst_1 : inhabited α,\\nb : buffe...   \n",
       "3  α : Type u,\\ni : ℕ,\\nv : α,\\nb_fst : ℕ,\\nb_snd...   \n",
       "4  α : Type u,\\ni : ℕ,\\nv : α,\\nb_fst : ℕ,\\nb_snd...   \n",
       "\n",
       "              human_tactic_code open_namespaces               decl_name  \\\n",
       "0             unfold read read'          buffer    buffer.read_eq_read'   \n",
       "1    simp [array.read_eq_read']          buffer    buffer.read_eq_read'   \n",
       "2                       cases b          buffer    buffer.read_eq_read'   \n",
       "3           unfold write write'          buffer  buffer.write_eq_write'   \n",
       "4  simp [array.write_eq_write']          buffer  buffer.write_eq_write'   \n",
       "\n",
       "                        filename  split       human_tactic_arg_0  \\\n",
       "0  lean/library/data/buffer.lean   test               read read'   \n",
       "1  lean/library/data/buffer.lean   test    [array.read_eq_read']   \n",
       "2  lean/library/data/buffer.lean   test                        b   \n",
       "3  lean/library/data/buffer.lean  train             write write'   \n",
       "4  lean/library/data/buffer.lean  train  [array.write_eq_write']   \n",
       "\n",
       "  human_tactic_arg_1 human_tactic_arg_2 human_tactic_arg_3 row col  \\\n",
       "0                                   NaN                NaN  49  13   \n",
       "1                                   NaN                NaN  49  32   \n",
       "2                                   NaN                NaN  49   4   \n",
       "3                                   NaN                NaN  53  13   \n",
       "4                                   NaN                NaN  53  34   \n",
       "\n",
       "  open_ns_local open_ns_nonlocal  \\\n",
       "0      [buffer]               []   \n",
       "1      [buffer]               []   \n",
       "2      [buffer]               []   \n",
       "3      [buffer]               []   \n",
       "4      [buffer]               []   \n",
       "\n",
       "                                   full_names_local  \\\n",
       "0      [(read, buffer.read), (read', buffer.read')]   \n",
       "1                                                []   \n",
       "2                                                []   \n",
       "3  [(write, buffer.write), (write', buffer.write')]   \n",
       "4                                                []   \n",
       "\n",
       "                                  full_names_global not_found_args  \\\n",
       "0                                                []             []   \n",
       "1      [(array.read_eq_read', array.read_eq_read')]             []   \n",
       "2                                                []             []   \n",
       "3                                                []             []   \n",
       "4  [(array.write_eq_write', array.write_eq_write')]             []   \n",
       "\n",
       "                      args_names  \n",
       "0    [buffer.read, buffer.read']  \n",
       "1          [array.read_eq_read']  \n",
       "2                             []  \n",
       "3  [buffer.write, buffer.write']  \n",
       "4        [array.write_eq_write']  "
      ]
     },
     "execution_count": 14,
     "metadata": {},
     "output_type": "execute_result"
    }
   ],
   "source": [
    "data.head()"
   ]
  },
  {
   "cell_type": "code",
   "execution_count": 15,
   "metadata": {},
   "outputs": [
    {
     "data": {
      "text/html": [
       "<div>\n",
       "<style scoped>\n",
       "    .dataframe tbody tr th:only-of-type {\n",
       "        vertical-align: middle;\n",
       "    }\n",
       "\n",
       "    .dataframe tbody tr th {\n",
       "        vertical-align: top;\n",
       "    }\n",
       "\n",
       "    .dataframe thead th {\n",
       "        text-align: right;\n",
       "    }\n",
       "</style>\n",
       "<table border=\"1\" class=\"dataframe\">\n",
       "  <thead>\n",
       "    <tr style=\"text-align: right;\">\n",
       "      <th></th>\n",
       "      <th>goal</th>\n",
       "      <th>tactic</th>\n",
       "      <th>decl</th>\n",
       "      <th>args_names</th>\n",
       "      <th>other_args</th>\n",
       "    </tr>\n",
       "  </thead>\n",
       "  <tbody>\n",
       "    <tr>\n",
       "      <th>0</th>\n",
       "      <td>α : Type u,\\n_inst_1 : inhabited α,\\ni b_fst :...</td>\n",
       "      <td>unfold read read'</td>\n",
       "      <td>buffer.read_eq_read'</td>\n",
       "      <td>[buffer.read, buffer.read']</td>\n",
       "      <td>[]</td>\n",
       "    </tr>\n",
       "    <tr>\n",
       "      <th>1</th>\n",
       "      <td>α : Type u,\\n_inst_1 : inhabited α,\\ni b_fst :...</td>\n",
       "      <td>simp [array.read_eq_read']</td>\n",
       "      <td>buffer.read_eq_read'</td>\n",
       "      <td>[array.read_eq_read']</td>\n",
       "      <td>[]</td>\n",
       "    </tr>\n",
       "    <tr>\n",
       "      <th>2</th>\n",
       "      <td>α : Type u,\\n_inst_1 : inhabited α,\\nb : buffe...</td>\n",
       "      <td>cases b</td>\n",
       "      <td>buffer.read_eq_read'</td>\n",
       "      <td>[]</td>\n",
       "      <td>[]</td>\n",
       "    </tr>\n",
       "    <tr>\n",
       "      <th>3</th>\n",
       "      <td>α : Type u,\\ni : ℕ,\\nv : α,\\nb_fst : ℕ,\\nb_snd...</td>\n",
       "      <td>unfold write write'</td>\n",
       "      <td>buffer.write_eq_write'</td>\n",
       "      <td>[buffer.write, buffer.write']</td>\n",
       "      <td>[]</td>\n",
       "    </tr>\n",
       "    <tr>\n",
       "      <th>4</th>\n",
       "      <td>α : Type u,\\ni : ℕ,\\nv : α,\\nb_fst : ℕ,\\nb_snd...</td>\n",
       "      <td>simp [array.write_eq_write']</td>\n",
       "      <td>buffer.write_eq_write'</td>\n",
       "      <td>[array.write_eq_write']</td>\n",
       "      <td>[]</td>\n",
       "    </tr>\n",
       "  </tbody>\n",
       "</table>\n",
       "</div>"
      ],
      "text/plain": [
       "                                                goal  \\\n",
       "0  α : Type u,\\n_inst_1 : inhabited α,\\ni b_fst :...   \n",
       "1  α : Type u,\\n_inst_1 : inhabited α,\\ni b_fst :...   \n",
       "2  α : Type u,\\n_inst_1 : inhabited α,\\nb : buffe...   \n",
       "3  α : Type u,\\ni : ℕ,\\nv : α,\\nb_fst : ℕ,\\nb_snd...   \n",
       "4  α : Type u,\\ni : ℕ,\\nv : α,\\nb_fst : ℕ,\\nb_snd...   \n",
       "\n",
       "                         tactic                    decl  \\\n",
       "0             unfold read read'    buffer.read_eq_read'   \n",
       "1    simp [array.read_eq_read']    buffer.read_eq_read'   \n",
       "2                       cases b    buffer.read_eq_read'   \n",
       "3           unfold write write'  buffer.write_eq_write'   \n",
       "4  simp [array.write_eq_write']  buffer.write_eq_write'   \n",
       "\n",
       "                      args_names other_args  \n",
       "0    [buffer.read, buffer.read']         []  \n",
       "1          [array.read_eq_read']         []  \n",
       "2                             []         []  \n",
       "3  [buffer.write, buffer.write']         []  \n",
       "4        [array.write_eq_write']         []  "
      ]
     },
     "execution_count": 15,
     "metadata": {},
     "output_type": "execute_result"
    }
   ],
   "source": [
    "data = data[['goal_pp', 'human_tactic_code', 'decl_name', 'args_names', 'not_found_args']]\n",
    "data = data.rename(columns={'human_tactic_code': 'tactic',\n",
    "                            'not_found_args': 'other_args',\n",
    "                            'goal_pp': 'goal',\n",
    "                            'decl_name': 'decl'})\n",
    "data.head()"
   ]
  },
  {
   "cell_type": "markdown",
   "metadata": {},
   "source": [
    "### How to get statements"
   ]
  },
  {
   "cell_type": "code",
   "execution_count": 16,
   "metadata": {},
   "outputs": [
    {
     "name": "stdout",
     "output_type": "stream",
     "text": [
      "def read : Π (b : buffer α), fin b.size → α\t| ⟨n, a⟩ i := a.read i\n",
      "def read' [inhabited α] : buffer α → nat → α\t| ⟨n, a⟩ i := a.read' i\n"
     ]
    }
   ],
   "source": [
    "args_names = data.iloc[0].args_names\n",
    "\n",
    "args_statements = [lemmas[name] for name in args_names]\n",
    "for stm in args_statements:\n",
    "    print(stm)"
   ]
  },
  {
   "cell_type": "code",
   "execution_count": 23,
   "metadata": {},
   "outputs": [],
   "source": [
    "data.args_names = data.args_names.apply(lambda x: '\\n'.join(x))\n",
    "data.other_args = data.other_args.apply(lambda x: '\\n'.join(x))\n",
    "\n",
    "data.to_parquet(DATA_DIRECTORY / 'arguments_full_names.parquet', engine='pyarrow', index=False)"
   ]
  },
  {
   "cell_type": "code",
   "execution_count": null,
   "metadata": {},
   "outputs": [],
   "source": []
  }
 ],
 "metadata": {
  "kernelspec": {
   "display_name": "Python 3.9.5 ('base')",
   "language": "python",
   "name": "python3"
  },
  "language_info": {
   "codemirror_mode": {
    "name": "ipython",
    "version": 3
   },
   "file_extension": ".py",
   "mimetype": "text/x-python",
   "name": "python",
   "nbconvert_exporter": "python",
   "pygments_lexer": "ipython3",
   "version": "3.9.5"
  },
  "vscode": {
   "interpreter": {
    "hash": "3e4b0e2b6b7f1e286dd9e8433429aa99b57bd8600e6065a7abc0c1b788fb6da6"
   }
  }
 },
 "nbformat": 4,
 "nbformat_minor": 4
}
