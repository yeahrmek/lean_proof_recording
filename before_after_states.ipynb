{
 "cells": [
  {
   "cell_type": "markdown",
   "metadata": {},
   "source": [
    "# The datasets\n",
    "\n",
    "This is a quick look at the datasets generated in this project."
   ]
  },
  {
   "cell_type": "code",
   "execution_count": 1,
   "metadata": {},
   "outputs": [],
   "source": [
    "from pathlib import Path\n",
    "\n",
    "import pandas as pd\n",
    "\n",
    "DATA_DIRECTORY = Path(\"./data/\")  # change as necessary"
   ]
  },
  {
   "cell_type": "markdown",
   "metadata": {},
   "source": [
    "# Combine data\n",
    "\n",
    "1. Load cleaned training data\n",
    "2. Load raw tactics and tactic states data\n",
    "3. Join them to have both tactics, states before and after and train/val/test split"
   ]
  },
  {
   "cell_type": "markdown",
   "metadata": {},
   "source": [
    "## 1. Load cleaned training data"
   ]
  },
  {
   "cell_type": "code",
   "execution_count": 2,
   "metadata": {},
   "outputs": [],
   "source": [
    "data_and_metadata = pd.read_csv(DATA_DIRECTORY / \"cleaned_training_data\" / \"data_and_metadata.csv\")"
   ]
  },
  {
   "cell_type": "markdown",
   "metadata": {},
   "source": [
    "## 2. Load tactics raw data"
   ]
  },
  {
   "cell_type": "code",
   "execution_count": 3,
   "metadata": {},
   "outputs": [],
   "source": [
    "tactic_state_goal_raw = pd.read_json(\n",
    "    DATA_DIRECTORY / \"raw_traced_data\" / \"tactic_state_goal.jsonl\",\n",
    "    orient='records',\n",
    "    lines=True\n",
    ")\n",
    "tactic_state_raw = pd.read_json(\n",
    "    DATA_DIRECTORY / \"raw_traced_data\" / \"tactic_state.jsonl\",\n",
    "    orient=\"records\",\n",
    "    lines=True \n",
    ")\n",
    "\n",
    "tactics_raw = pd.read_json(\n",
    "    DATA_DIRECTORY / \"extracted_proof_data\" / \"tactics.jsonl\", \n",
    "    orient='records',\n",
    "    lines=True\n",
    ")\n",
    "\n",
    "tactics_raw = pd.merge(tactics_raw, data_and_metadata, on=['filename', 'line', 'column', 'proof_key'])"
   ]
  },
  {
   "cell_type": "markdown",
   "metadata": {},
   "source": [
    "## 3. Join data"
   ]
  },
  {
   "cell_type": "markdown",
   "metadata": {},
   "source": [
    "Here we combine the above data sources to make a table containing:\n",
    "* First goals in the goal stack before and after the tactic is executed\n",
    "* The human written tactic command\n",
    "* A metadata about the type of tactic, declaration and train/val/test split"
   ]
  },
  {
   "cell_type": "code",
   "execution_count": 4,
   "metadata": {
    "scrolled": true
   },
   "outputs": [],
   "source": [
    "goals = tactic_state_goal_raw.copy()\n",
    "goals = goals[goals['ix'] == 0]\n",
    "\n",
    "# set unique index\n",
    "goals['tactic_state_key'] = goals['filename'] + \":\" + goals['tactic_state']\n",
    "goals = goals[['tactic_state_key', 'goal_pp']]\n",
    "goals = goals.set_index('tactic_state_key')"
   ]
  },
  {
   "cell_type": "markdown",
   "metadata": {},
   "source": [
    "#### Add `tactic_key` from `tactic_state` table"
   ]
  },
  {
   "cell_type": "code",
   "execution_count": 5,
   "metadata": {},
   "outputs": [
    {
     "name": "stdout",
     "output_type": "stream",
     "text": [
      "481088 481088\n"
     ]
    },
    {
     "data": {
      "text/plain": [
       "(481088, 4)"
      ]
     },
     "execution_count": 5,
     "metadata": {},
     "output_type": "execute_result"
    }
   ],
   "source": [
    "states = tactic_state_raw.copy()\n",
    "# df2 = df2[df2['before_after'] == 'before']\n",
    "states['tactic_state_key'] = states['filename'] + \":\" + states['key']\n",
    "states['tactic_instance_key'] = states['filename'] + \":\" + states['tactic_instance']\n",
    "states['tactic_key'] = states['tactic_instance_key'].apply(lambda k: \":\".join(k.split(\":\")[:-1]))\n",
    "states = states[['tactic_state_key', 'tactic_key', 'tactic_instance_key', 'before_after', 'tactic_instance']]\n",
    "states = states.set_index('tactic_state_key')\n",
    "\n",
    "print(len(goals), len(states))\n",
    "goals = goals.join(states)\n",
    "goals = goals.set_index('tactic_key')\n",
    "goals.shape"
   ]
  },
  {
   "cell_type": "markdown",
   "metadata": {},
   "source": [
    "#### join rows by `tactic_key` and `tactic_instance`"
   ]
  },
  {
   "cell_type": "code",
   "execution_count": 6,
   "metadata": {},
   "outputs": [],
   "source": [
    "def join_before_after(group):\n",
    "    if len(group) == 1:\n",
    "        return None\n",
    "    if len(group) > 2:\n",
    "        raise ValueError\n",
    "    \n",
    "    before = group[group.before_after == 'before'].copy()\n",
    "    after = group[group.before_after == 'after']\n",
    "    before['goal_before'] = before['goal_pp']\n",
    "    before['goal_after'] = after['goal_pp']\n",
    "    return before"
   ]
  },
  {
   "cell_type": "code",
   "execution_count": 7,
   "metadata": {},
   "outputs": [
    {
     "name": "stderr",
     "output_type": "stream",
     "text": [
      "100%|██████████| 240974/240974 [02:13<00:00, 1801.91it/s]\n"
     ]
    }
   ],
   "source": [
    "import tqdm\n",
    "from joblib import Parallel, delayed\n",
    "\n",
    "\n",
    "result = Parallel(-1)(\n",
    "    delayed(join_before_after)(group)\n",
    "    for _, group in tqdm.tqdm(goals.groupby(['tactic_key', 'tactic_instance']))\n",
    ")\n",
    "goals = pd.concat(result).drop(columns=['goal_pp', 'before_after'])"
   ]
  },
  {
   "cell_type": "code",
   "execution_count": 8,
   "metadata": {},
   "outputs": [],
   "source": [
    "tactics = tactics_raw.copy()\n",
    "tactics['tactic_key'] = tactics['filename'] + \":\" + tactics['trace_key']\n",
    "tactics = tactics.set_index('tactic_key')"
   ]
  },
  {
   "cell_type": "code",
   "execution_count": 9,
   "metadata": {},
   "outputs": [
    {
     "data": {
      "text/plain": [
       "((240484,), 226835, 226819)"
      ]
     },
     "execution_count": 9,
     "metadata": {},
     "output_type": "execute_result"
    }
   ],
   "source": [
    "tactics.index.shape, len(set(tactics.index)), len(set(tactics.index).intersection(goals.index))"
   ]
  },
  {
   "cell_type": "code",
   "execution_count": 10,
   "metadata": {},
   "outputs": [
    {
     "data": {
      "text/plain": [
       "(240404, 27)"
      ]
     },
     "execution_count": 10,
     "metadata": {},
     "output_type": "execute_result"
    }
   ],
   "source": [
    "joined = pd.merge(\n",
    "    goals, tactics,\n",
    "    how='inner',\n",
    "    left_on=['tactic_key', 'goal_before'],\n",
    "    right_on=['tactic_key', 'goal_pp']\n",
    ")\n",
    "joined.shape"
   ]
  },
  {
   "cell_type": "code",
   "execution_count": 11,
   "metadata": {},
   "outputs": [],
   "source": [
    "_joined = (joined\n",
    "          .set_index('tactic_instance_key')\n",
    "          .drop(columns=['key', 'end_line', 'end_column',\n",
    "                         'code_string', 'index',\n",
    "                         'Unnamed: 0',\n",
    "                         'goal_pp', 'cleaned_goal', \n",
    "                         'filename', ])\n",
    ")"
   ]
  },
  {
   "cell_type": "code",
   "execution_count": 13,
   "metadata": {},
   "outputs": [],
   "source": [
    "_joined.to_parquet(DATA_DIRECTORY / 'goals_before_after.parquet', engine='pyarrow')"
   ]
  },
  {
   "cell_type": "code",
   "execution_count": null,
   "metadata": {},
   "outputs": [],
   "source": []
  }
 ],
 "metadata": {
  "kernelspec": {
   "display_name": "Python 3.9.5 ('base')",
   "language": "python",
   "name": "python3"
  },
  "language_info": {
   "codemirror_mode": {
    "name": "ipython",
    "version": 3
   },
   "file_extension": ".py",
   "mimetype": "text/x-python",
   "name": "python",
   "nbconvert_exporter": "python",
   "pygments_lexer": "ipython3",
   "version": "3.9.5 (default, May 18 2021, 12:31:01) \n[Clang 10.0.0 ]"
  },
  "vscode": {
   "interpreter": {
    "hash": "3e4b0e2b6b7f1e286dd9e8433429aa99b57bd8600e6065a7abc0c1b788fb6da6"
   }
  }
 },
 "nbformat": 4,
 "nbformat_minor": 4
}
